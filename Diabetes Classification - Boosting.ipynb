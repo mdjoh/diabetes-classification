{
 "cells": [
  {
   "cell_type": "markdown",
   "id": "0f4820fb",
   "metadata": {},
   "source": [
    "# Predicting Diabetes - Classifcation Task\n",
    "Macro F1 score is the evaluation metric"
   ]
  },
  {
   "cell_type": "code",
   "execution_count": 1,
   "id": "2e6edf2b",
   "metadata": {},
   "outputs": [],
   "source": [
    "import numpy as np\n",
    "import pandas as pd\n",
    "\n",
    "import warnings\n",
    "warnings.filterwarnings('ignore')"
   ]
  },
  {
   "cell_type": "code",
   "execution_count": 2,
   "id": "1d35bdb0",
   "metadata": {},
   "outputs": [],
   "source": [
    "df_train = pd.read_csv(\"diabetes_train.csv\")"
   ]
  },
  {
   "cell_type": "markdown",
   "id": "c7daa52f",
   "metadata": {},
   "source": [
    "## Get to know the data"
   ]
  },
  {
   "cell_type": "code",
   "execution_count": 3,
   "id": "18f4c258",
   "metadata": {},
   "outputs": [
    {
     "data": {
      "text/html": [
       "<div>\n",
       "<style scoped>\n",
       "    .dataframe tbody tr th:only-of-type {\n",
       "        vertical-align: middle;\n",
       "    }\n",
       "\n",
       "    .dataframe tbody tr th {\n",
       "        vertical-align: top;\n",
       "    }\n",
       "\n",
       "    .dataframe thead th {\n",
       "        text-align: right;\n",
       "    }\n",
       "</style>\n",
       "<table border=\"1\" class=\"dataframe\">\n",
       "  <thead>\n",
       "    <tr style=\"text-align: right;\">\n",
       "      <th></th>\n",
       "      <th>Id</th>\n",
       "      <th>num_times_pregnant</th>\n",
       "      <th>plasma_glucose</th>\n",
       "      <th>DBP</th>\n",
       "      <th>triceps_skin</th>\n",
       "      <th>serum_insulin</th>\n",
       "      <th>BMI</th>\n",
       "      <th>pedigree</th>\n",
       "      <th>age</th>\n",
       "      <th>diabetes</th>\n",
       "    </tr>\n",
       "  </thead>\n",
       "  <tbody>\n",
       "    <tr>\n",
       "      <th>0</th>\n",
       "      <td>358</td>\n",
       "      <td>13</td>\n",
       "      <td>129</td>\n",
       "      <td>0</td>\n",
       "      <td>30</td>\n",
       "      <td>0</td>\n",
       "      <td>39.9</td>\n",
       "      <td>0.569</td>\n",
       "      <td>44</td>\n",
       "      <td>1</td>\n",
       "    </tr>\n",
       "    <tr>\n",
       "      <th>1</th>\n",
       "      <td>74</td>\n",
       "      <td>4</td>\n",
       "      <td>129</td>\n",
       "      <td>86</td>\n",
       "      <td>20</td>\n",
       "      <td>270</td>\n",
       "      <td>35.1</td>\n",
       "      <td>0.231</td>\n",
       "      <td>23</td>\n",
       "      <td>0</td>\n",
       "    </tr>\n",
       "    <tr>\n",
       "      <th>2</th>\n",
       "      <td>353</td>\n",
       "      <td>3</td>\n",
       "      <td>61</td>\n",
       "      <td>82</td>\n",
       "      <td>28</td>\n",
       "      <td>0</td>\n",
       "      <td>34.4</td>\n",
       "      <td>0.243</td>\n",
       "      <td>46</td>\n",
       "      <td>0</td>\n",
       "    </tr>\n",
       "    <tr>\n",
       "      <th>3</th>\n",
       "      <td>498</td>\n",
       "      <td>2</td>\n",
       "      <td>81</td>\n",
       "      <td>72</td>\n",
       "      <td>15</td>\n",
       "      <td>76</td>\n",
       "      <td>30.1</td>\n",
       "      <td>0.547</td>\n",
       "      <td>25</td>\n",
       "      <td>0</td>\n",
       "    </tr>\n",
       "    <tr>\n",
       "      <th>4</th>\n",
       "      <td>146</td>\n",
       "      <td>0</td>\n",
       "      <td>102</td>\n",
       "      <td>75</td>\n",
       "      <td>23</td>\n",
       "      <td>0</td>\n",
       "      <td>0.0</td>\n",
       "      <td>0.572</td>\n",
       "      <td>21</td>\n",
       "      <td>0</td>\n",
       "    </tr>\n",
       "  </tbody>\n",
       "</table>\n",
       "</div>"
      ],
      "text/plain": [
       "    Id  num_times_pregnant  plasma_glucose  DBP  triceps_skin  serum_insulin  \\\n",
       "0  358                  13             129    0            30              0   \n",
       "1   74                   4             129   86            20            270   \n",
       "2  353                   3              61   82            28              0   \n",
       "3  498                   2              81   72            15             76   \n",
       "4  146                   0             102   75            23              0   \n",
       "\n",
       "    BMI  pedigree  age  diabetes  \n",
       "0  39.9     0.569   44         1  \n",
       "1  35.1     0.231   23         0  \n",
       "2  34.4     0.243   46         0  \n",
       "3  30.1     0.547   25         0  \n",
       "4   0.0     0.572   21         0  "
      ]
     },
     "execution_count": 3,
     "metadata": {},
     "output_type": "execute_result"
    }
   ],
   "source": [
    "df_train.head(5)"
   ]
  },
  {
   "cell_type": "code",
   "execution_count": 4,
   "id": "5c1fce85",
   "metadata": {},
   "outputs": [
    {
     "name": "stdout",
     "output_type": "stream",
     "text": [
      "<class 'pandas.core.frame.DataFrame'>\n",
      "RangeIndex: 576 entries, 0 to 575\n",
      "Data columns (total 10 columns):\n",
      " #   Column              Non-Null Count  Dtype  \n",
      "---  ------              --------------  -----  \n",
      " 0   Id                  576 non-null    int64  \n",
      " 1   num_times_pregnant  576 non-null    int64  \n",
      " 2   plasma_glucose      576 non-null    int64  \n",
      " 3   DBP                 576 non-null    int64  \n",
      " 4   triceps_skin        576 non-null    int64  \n",
      " 5   serum_insulin       576 non-null    int64  \n",
      " 6   BMI                 576 non-null    float64\n",
      " 7   pedigree            576 non-null    float64\n",
      " 8   age                 576 non-null    int64  \n",
      " 9   diabetes            576 non-null    int64  \n",
      "dtypes: float64(2), int64(8)\n",
      "memory usage: 45.1 KB\n"
     ]
    }
   ],
   "source": [
    "df_train.info()"
   ]
  },
  {
   "cell_type": "markdown",
   "id": "1e6fba14",
   "metadata": {},
   "source": [
    "## Split Data"
   ]
  },
  {
   "cell_type": "code",
   "execution_count": 5,
   "id": "6e53453d",
   "metadata": {},
   "outputs": [],
   "source": [
    "from sklearn.model_selection import train_test_split\n",
    "\n",
    "Id_col = 'Id'\n",
    "target_col = 'diabetes'\n",
    "\n",
    "X = df_train.drop([Id_col, target_col], axis=1)\n",
    "y = df_train[target_col]\n",
    "\n",
    "X_train, X_test, y_train, y_test = train_test_split(X, y, test_size=0.2, random_state=42)"
   ]
  },
  {
   "cell_type": "code",
   "execution_count": 6,
   "id": "f1a30589",
   "metadata": {},
   "outputs": [
    {
     "data": {
      "text/plain": [
       "array([[<AxesSubplot:title={'center':'num_times_pregnant'}>,\n",
       "        <AxesSubplot:title={'center':'plasma_glucose'}>,\n",
       "        <AxesSubplot:title={'center':'DBP'}>],\n",
       "       [<AxesSubplot:title={'center':'triceps_skin'}>,\n",
       "        <AxesSubplot:title={'center':'serum_insulin'}>,\n",
       "        <AxesSubplot:title={'center':'BMI'}>],\n",
       "       [<AxesSubplot:title={'center':'pedigree'}>,\n",
       "        <AxesSubplot:title={'center':'age'}>, <AxesSubplot:>]],\n",
       "      dtype=object)"
      ]
     },
     "execution_count": 6,
     "metadata": {},
     "output_type": "execute_result"
    },
    {
     "data": {
      "image/png": "[encoded data removed]",
      "text/plain": [
       "<Figure size 1800x1440 with 9 Axes>"
      ]
     },
     "metadata": {
      "needs_background": "light"
     },
     "output_type": "display_data"
    }
   ],
   "source": [
    "X_train.hist(figsize=(25, 20))"
   ]
  },
  {
   "cell_type": "markdown",
   "id": "5ac723ed",
   "metadata": {},
   "source": [
    "## Build AutoML Model\n",
    "Use AutoML to get a sense of which algorithm works best"
   ]
  },
  {
   "cell_type": "code",
   "execution_count": null,
   "id": "f2b23ee3",
   "metadata": {
    "scrolled": true
   },
   "outputs": [],
   "source": [
    "from flaml import AutoML\n",
    "automl_clf = AutoML()\n",
    "automl_clf.fit(X_train, y_train, task=\"classification\", time_budget=500, verbose=3)"
   ]
  },
  {
   "cell_type": "code",
   "execution_count": 8,
   "id": "295ec266",
   "metadata": {},
   "outputs": [],
   "source": [
    "y_pred = automl_clf.predict(X_test)"
   ]
  },
  {
   "cell_type": "code",
   "execution_count": 9,
   "id": "90ed1edf",
   "metadata": {},
   "outputs": [
    {
     "name": "stdout",
     "output_type": "stream",
     "text": [
      "              precision    recall  f1-score   support\n",
      "\n",
      "           0       0.82      0.94      0.87        81\n",
      "           1       0.78      0.51      0.62        35\n",
      "\n",
      "    accuracy                           0.81       116\n",
      "   macro avg       0.80      0.73      0.75       116\n",
      "weighted avg       0.81      0.81      0.80       116\n",
      "\n"
     ]
    }
   ],
   "source": [
    "from sklearn.metrics import confusion_matrix, f1_score, classification_report\n",
    "print(classification_report(y_test, y_pred))"
   ]
  },
  {
   "cell_type": "markdown",
   "id": "f23c425b",
   "metadata": {},
   "source": [
    "## Apply Feature Engineering\n",
    "- SimpleImputer for inadmissible value of 0 for plasma_glucose, DBP, triceps_skin, BMI features\n",
    "- StandardScaler"
   ]
  },
  {
   "cell_type": "code",
   "execution_count": 10,
   "id": "fc733e2c",
   "metadata": {},
   "outputs": [],
   "source": [
    "from sklearn.compose import ColumnTransformer\n",
    "from sklearn.impute import SimpleImputer, KNNImputer\n",
    "from sklearn.pipeline import make_pipeline\n",
    "from sklearn.preprocessing import StandardScaler\n",
    "from xgboost import XGBClassifier # XGBoost was the best performing algorithm found by AutoML"
   ]
  },
  {
   "cell_type": "code",
   "execution_count": 11,
   "id": "01394e18",
   "metadata": {},
   "outputs": [],
   "source": [
    "# Make column transformer with simple imputer\n",
    "simple_imputer_transformer = ColumnTransformer(transformers=[('simpleimputer', SimpleImputer(missing_values=0),\n",
    "                                              ['plasma_glucose', 'DBP', 'triceps_skin', 'BMI'])])"
   ]
  },
  {
   "cell_type": "code",
   "execution_count": 12,
   "id": "dd05dec8",
   "metadata": {},
   "outputs": [],
   "source": [
    "# Create pipeline with feature engineering and classifier\n",
    "simple_imputer_pipe = make_pipeline(simple_imputer_transformer,\n",
    "                    StandardScaler(),\n",
    "                    XGBClassifier(objective='binary:hinge', seed=42))"
   ]
  },
  {
   "cell_type": "markdown",
   "id": "0abba3be",
   "metadata": {},
   "source": [
    "## Pipeline Hyperparameter Tuning"
   ]
  },
  {
   "cell_type": "markdown",
   "id": "4728d568",
   "metadata": {},
   "source": [
    "SimpleImputer hyperparameter to tune:\n",
    "- strategy\n",
    "\n",
    "Hyperparameters to tune for XGBoost:\n",
    "- booster\n",
    "- learning_rate\n",
    "- max_depth\n",
    "- min_child_weight\n",
    "- subsample\n",
    "- tree_method\n",
    "- n_estimators"
   ]
  },
  {
   "cell_type": "code",
   "execution_count": 13,
   "id": "6530a2c4",
   "metadata": {},
   "outputs": [],
   "source": [
    "from sklearn.model_selection import RandomizedSearchCV\n",
    "from scipy.stats import randint, uniform\n",
    "\n",
    "parameter_grid = {'columntransformer__simpleimputer__strategy': ['mean', 'median', 'most_frequent'],\n",
    "                  'xgbclassifier__booster': ['gbtree', 'gblinear', 'dart'],\n",
    "                  'xgbclassifier__learning_rate': uniform(0, 1),\n",
    "                  'xgbclassifier__max_depth': randint(3, 10),\n",
    "                  'xgbclassifier__min_child_weight': uniform(0, 100),\n",
    "                  'xgbclassifier__subsample': uniform(0.5, 1),\n",
    "                  'xgbclassifier__tree_method': ['auto', 'exact', 'approx', 'hist'],\n",
    "                  'xgbclassifier__n_estimators': randint(50, 300)}\n",
    "\n",
    "xgbclf_rs = RandomizedSearchCV(simple_imputer_pipe, param_distributions=parameter_grid, n_iter=1000, scoring='f1_macro', \n",
    "                           cv=5, n_jobs=-1, return_train_score=True)"
   ]
  },
  {
   "cell_type": "code",
   "execution_count": 14,
   "id": "73e5bd93",
   "metadata": {},
   "outputs": [
    {
     "data": {
      "text/plain": [
       "RandomizedSearchCV(cv=5,\n",
       "                   estimator=Pipeline(steps=[('columntransformer',\n",
       "                                              ColumnTransformer(transformers=[('simpleimputer',\n",
       "                                                                               SimpleImputer(missing_values=0),\n",
       "                                                                               ['plasma_glucose',\n",
       "                                                                                'DBP',\n",
       "                                                                                'triceps_skin',\n",
       "                                                                                'BMI'])])),\n",
       "                                             ('standardscaler',\n",
       "                                              StandardScaler()),\n",
       "                                             ('xgbclassifier',\n",
       "                                              XGBClassifier(base_score=None,\n",
       "                                                            booster=None,\n",
       "                                                            colsample_bylevel=None,\n",
       "                                                            colsample_bynode=None,\n",
       "                                                            colsamp...\n",
       "                                        'xgbclassifier__min_child_weight': <scipy.stats._distn_infrastructure.rv_frozen object at 0x00000268A2AB71C0>,\n",
       "                                        'xgbclassifier__n_estimators': <scipy.stats._distn_infrastructure.rv_frozen object at 0x00000268A3BFE6D0>,\n",
       "                                        'xgbclassifier__subsample': <scipy.stats._distn_infrastructure.rv_frozen object at 0x00000268A28BA910>,\n",
       "                                        'xgbclassifier__tree_method': ['auto',\n",
       "                                                                       'exact',\n",
       "                                                                       'approx',\n",
       "                                                                       'hist']},\n",
       "                   return_train_score=True, scoring='f1_macro')"
      ]
     },
     "execution_count": 14,
     "metadata": {},
     "output_type": "execute_result"
    }
   ],
   "source": [
    "# Fit to training data\n",
    "xgbclf_rs.fit(X_train, y_train)"
   ]
  },
  {
   "cell_type": "code",
   "execution_count": 23,
   "id": "a5d893a2",
   "metadata": {},
   "outputs": [
    {
     "name": "stdout",
     "output_type": "stream",
     "text": [
      "Best Hyperparameters: {'columntransformer__simpleimputer__strategy': 'mean', 'xgbclassifier__booster': 'gblinear', 'xgbclassifier__learning_rate': 0.04042782338781714, 'xgbclassifier__max_depth': 9, 'xgbclassifier__min_child_weight': 46.750402383986234, 'xgbclassifier__n_estimators': 88, 'xgbclassifier__subsample': 0.8267634626751578, 'xgbclassifier__tree_method': 'approx'}\n",
      "\n",
      "Best Mean Score: 0.7456\n",
      "Best Mean Std. Dev.: 0.0431\n",
      "+/-2 std. dev. range within mean: (0.6594, 0.8317)\n"
     ]
    }
   ],
   "source": [
    "# Print the hyperparameters, score, standard deviation, and standard deviation range of the\n",
    "# best performing model from RandomizedSearchCV\n",
    "\n",
    "avg = xgbclf_rs.best_score_\n",
    "stddev = xgbclf_rs.cv_results_['std_test_score'][xgbclf_rs.best_index_]\n",
    "\n",
    "print(f\"Best Hyperparameters: {xgbclf_rs.best_params_}\\n\")\n",
    "print(f\"Best Mean Score: {avg:.4f}\")\n",
    "print(f\"Best Mean Std. Dev.: {stddev:.4f}\")\n",
    "print(f\"+/-2 std. dev. range within mean: ({avg - 2*stddev:.4f}, {avg + 2*stddev:.4f})\")"
   ]
  },
  {
   "cell_type": "markdown",
   "id": "b1d8b1e1",
   "metadata": {},
   "source": [
    "## Evaluate on Test Data"
   ]
  },
  {
   "cell_type": "code",
   "execution_count": 16,
   "id": "a6c7fff0",
   "metadata": {},
   "outputs": [
    {
     "name": "stdout",
     "output_type": "stream",
     "text": [
      "              precision    recall  f1-score   support\n",
      "\n",
      "           0       0.84      0.89      0.86        81\n",
      "           1       0.70      0.60      0.65        35\n",
      "\n",
      "    accuracy                           0.80       116\n",
      "   macro avg       0.77      0.74      0.75       116\n",
      "weighted avg       0.80      0.80      0.80       116\n",
      "\n"
     ]
    }
   ],
   "source": [
    "# Deploy model on X_test\n",
    "y_pred = xgbclf_rs.predict(X_test)\n",
    "\n",
    "print(classification_report(y_test, y_pred))"
   ]
  },
  {
   "cell_type": "markdown",
   "id": "b113b715",
   "metadata": {},
   "source": [
    "## Impute Data with KNN Imputer"
   ]
  },
  {
   "cell_type": "code",
   "execution_count": 17,
   "id": "200a8b93",
   "metadata": {},
   "outputs": [],
   "source": [
    "# Make column transformer with KNN imputer\n",
    "knn_imputer_transformer = ColumnTransformer(transformers=[\n",
    "                            ('stdscaler', StandardScaler(), list(X_train.columns)),\n",
    "                            ('knnimputer', KNNImputer(missing_values=0), ['plasma_glucose', 'DBP', 'triceps_skin', 'BMI'])\n",
    "                            ])"
   ]
  },
  {
   "cell_type": "code",
   "execution_count": 18,
   "id": "72c21bb1",
   "metadata": {},
   "outputs": [],
   "source": [
    "# Create pipeline with feature engineering and classifier\n",
    "knn_imputer_pipe = make_pipeline(knn_imputer_transformer,\n",
    "                    StandardScaler(),\n",
    "                    XGBClassifier(objective='binary:hinge', seed=42))"
   ]
  },
  {
   "cell_type": "code",
   "execution_count": 24,
   "id": "d54787e6",
   "metadata": {},
   "outputs": [],
   "source": [
    "parameter_grid = {'xgbclassifier__booster': ['gbtree', 'gblinear', 'dart'],\n",
    "                  'xgbclassifier__learning_rate': uniform(0, 1),\n",
    "                  'xgbclassifier__max_depth': randint(3, 10),\n",
    "                  'xgbclassifier__min_child_weight': uniform(0, 100),\n",
    "                  'xgbclassifier__subsample': uniform(0.5, 1),\n",
    "                  'xgbclassifier__tree_method': ['auto', 'exact', 'approx', 'hist'],\n",
    "                  'xgbclassifier__n_estimators': randint(50, 300)}\n",
    "\n",
    "knn_xgbclf_rs = RandomizedSearchCV(knn_imputer_pipe, param_distributions=parameter_grid, n_iter=1000, scoring='f1_macro', \n",
    "                           cv=5, n_jobs=-1, return_train_score=True)"
   ]
  },
  {
   "cell_type": "code",
   "execution_count": 25,
   "id": "3ca39d6e",
   "metadata": {},
   "outputs": [
    {
     "data": {
      "text/plain": [
       "RandomizedSearchCV(cv=5,\n",
       "                   estimator=Pipeline(steps=[('columntransformer',\n",
       "                                              ColumnTransformer(transformers=[('stdscaler',\n",
       "                                                                               StandardScaler(),\n",
       "                                                                               ['num_times_pregnant',\n",
       "                                                                                'plasma_glucose',\n",
       "                                                                                'DBP',\n",
       "                                                                                'triceps_skin',\n",
       "                                                                                'serum_insulin',\n",
       "                                                                                'BMI',\n",
       "                                                                                'pedigree',\n",
       "                                                                                'age']),\n",
       "                                                                              ('knnimputer',\n",
       "                                                                               KNNImputer(missing_values=0),\n",
       "                                                                               ['plasma_glucose',\n",
       "                                                                                'DBP',\n",
       "                                                                                'triceps_skin',\n",
       "                                                                                'BMI'])])),\n",
       "                                             ('standardscaler',\n",
       "                                              Stand...\n",
       "                                        'xgbclassifier__min_child_weight': <scipy.stats._distn_infrastructure.rv_frozen object at 0x00000268A28EEC10>,\n",
       "                                        'xgbclassifier__n_estimators': <scipy.stats._distn_infrastructure.rv_frozen object at 0x00000268A295A430>,\n",
       "                                        'xgbclassifier__subsample': <scipy.stats._distn_infrastructure.rv_frozen object at 0x00000268A4317190>,\n",
       "                                        'xgbclassifier__tree_method': ['auto',\n",
       "                                                                       'exact',\n",
       "                                                                       'approx',\n",
       "                                                                       'hist']},\n",
       "                   return_train_score=True, scoring='f1_macro')"
      ]
     },
     "execution_count": 25,
     "metadata": {},
     "output_type": "execute_result"
    }
   ],
   "source": [
    "# Fit to training data\n",
    "knn_xgbclf_rs.fit(X_train, y_train)"
   ]
  },
  {
   "cell_type": "code",
   "execution_count": 26,
   "id": "4998fbec",
   "metadata": {},
   "outputs": [
    {
     "name": "stdout",
     "output_type": "stream",
     "text": [
      "Best Hyperparameters: {'xgbclassifier__booster': 'gblinear', 'xgbclassifier__learning_rate': 0.7608287021115674, 'xgbclassifier__max_depth': 8, 'xgbclassifier__min_child_weight': 56.0691613629561, 'xgbclassifier__n_estimators': 197, 'xgbclassifier__subsample': 1.3358643547341298, 'xgbclassifier__tree_method': 'hist'}\n",
      "\n",
      "Best Mean Score: 0.7453\n",
      "Best Mean Std. Dev.: 0.0534\n",
      "+/-2 std. dev. range within mean: (0.6385, 0.8521)\n"
     ]
    }
   ],
   "source": [
    "# Print the hyperparameters, score, standard deviation, and standard deviation range of the\n",
    "# best performing model from RandomizedSearchCV\n",
    "\n",
    "avg = knn_xgbclf_rs.best_score_\n",
    "stddev = knn_xgbclf_rs.cv_results_['std_test_score'][knn_xgbclf_rs.best_index_]\n",
    "\n",
    "print(f\"Best Hyperparameters: {knn_xgbclf_rs.best_params_}\\n\")\n",
    "print(f\"Best Mean Score: {avg:.4f}\")\n",
    "print(f\"Best Mean Std. Dev.: {stddev:.4f}\")\n",
    "print(f\"+/-2 std. dev. range within mean: ({avg - 2*stddev:.4f}, {avg + 2*stddev:.4f})\")"
   ]
  },
  {
   "cell_type": "markdown",
   "id": "0f195fa6",
   "metadata": {},
   "source": [
    "## Evaluate on Test Data"
   ]
  },
  {
   "cell_type": "code",
   "execution_count": 27,
   "id": "ca4a208b",
   "metadata": {},
   "outputs": [
    {
     "name": "stdout",
     "output_type": "stream",
     "text": [
      "              precision    recall  f1-score   support\n",
      "\n",
      "           0       0.85      0.94      0.89        81\n",
      "           1       0.81      0.63      0.71        35\n",
      "\n",
      "    accuracy                           0.84       116\n",
      "   macro avg       0.83      0.78      0.80       116\n",
      "weighted avg       0.84      0.84      0.84       116\n",
      "\n"
     ]
    }
   ],
   "source": [
    "# Deploy model on X_test\n",
    "y_pred = knn_xgbclf_rs.predict(X_test)\n",
    "\n",
    "print(classification_report(y_test, y_pred))"
   ]
  },
  {
   "cell_type": "markdown",
   "id": "5d334ffb",
   "metadata": {},
   "source": [
    "## Hyperparameter Tuning using HyperOpt"
   ]
  },
  {
   "cell_type": "code",
   "execution_count": 28,
   "id": "b1a65a1f",
   "metadata": {},
   "outputs": [],
   "source": [
    "from hyperopt import hp, STATUS_OK, Trials, fmin, tpe\n",
    "\n",
    "# Domain space\n",
    "space={'strategy': hp.choice('strategy', ['mean', 'median', 'most_frequent']),\n",
    "        'booster': hp.choice('booster', ['gbtree', 'gblinear', 'dart']),\n",
    "        'learning_rate': hp.loguniform ('learning_rate', np.log(0.01), np.log(1)),\n",
    "        'max_depth': hp.quniform(\"max_depth\", 3, 18, 1),\n",
    "        'gamma': hp.uniform ('gamma', 1, 9),\n",
    "        'reg_alpha' : hp.quniform('reg_alpha', 40, 180, 1),\n",
    "        'reg_lambda' : hp.uniform('reg_lambda', 0, 1),\n",
    "        'colsample_bytree' : hp.uniform('colsample_bytree', 0.5, 1),\n",
    "        'min_child_weight' : hp.quniform('min_child_weight', 0, 10, 1),\n",
    "        'subsample': hp.uniform('subsample', 0.5, 1),\n",
    "        'tree_method': hp.choice('tree_method', ['auto', 'exact', 'approx', 'hist'])}"
   ]
  },
  {
   "cell_type": "code",
   "execution_count": 29,
   "id": "e4489f4e",
   "metadata": {},
   "outputs": [],
   "source": [
    "from sklearn.model_selection import cross_val_score\n",
    "\n",
    "# Define objective function\n",
    "def objective_function(space):\n",
    "    imputer = ColumnTransformer(transformers=[('imputer', SimpleImputer(missing_values=0, strategy=space['strategy']),\n",
    "                                              ['plasma_glucose', 'DBP', 'triceps_skin', 'BMI'])])\n",
    "    \n",
    "    xgb_clf = XGBClassifier(objective='binary:hinge', booster=space['booster'], learning_rate=space['learning_rate'], \n",
    "                            max_depth=int(space['max_depth']), gamma=space['gamma'], reg_alpha=int(space['reg_alpha']),\n",
    "                            reg_lambda=space['reg_lambda'], colsample_bytree=space['colsample_bytree'], \n",
    "                            min_child_weight=int(space['min_child_weight']), subsample=space['subsample'], \n",
    "                            tree_method=space['tree_method'], n_estimators=200, seed=42)\n",
    "    \n",
    "    pipe = make_pipeline(imputer,\n",
    "                         StandardScaler(),\n",
    "                         xgb_clf)\n",
    "    \n",
    "    f1_score = cross_val_score(pipe, X_train, y_train, scoring = 'f1_macro', cv=5).mean()\n",
    "    \n",
    "    return {'loss': -f1_score, 'status': STATUS_OK, 'Trained_Model': xgb_clf}"
   ]
  },
  {
   "cell_type": "code",
   "execution_count": 30,
   "id": "5b42fda9",
   "metadata": {},
   "outputs": [
    {
     "name": "stdout",
     "output_type": "stream",
     "text": [
      "100%|█████████████████████████████████████████████| 300/300 [01:53<00:00,  2.64trial/s, best loss: -0.7146438627105673]\n"
     ]
    }
   ],
   "source": [
    "# Optimization algorithm\n",
    "trials = Trials()\n",
    "\n",
    "best_params = fmin(fn=objective_function,\n",
    "                   space=space,\n",
    "                   algo=tpe.suggest,\n",
    "                   max_evals=300,\n",
    "                   trials=trials)"
   ]
  },
  {
   "cell_type": "code",
   "execution_count": 31,
   "id": "4777fabe",
   "metadata": {},
   "outputs": [],
   "source": [
    "def getBestModel(trials):\n",
    "    valid_trial_list = [trial for trial in trials if STATUS_OK == trial['result']['status']]\n",
    "    losses = [float(trial['result']['loss']) for trial in valid_trial_list]\n",
    "    min_loss_index = np.argmin(losses)\n",
    "    best_trial_obj = valid_trial_list[min_loss_index]\n",
    "    \n",
    "    return best_trial_obj['result']['Trained_Model']"
   ]
  },
  {
   "cell_type": "code",
   "execution_count": 32,
   "id": "bb78e773",
   "metadata": {},
   "outputs": [
    {
     "name": "stdout",
     "output_type": "stream",
     "text": [
      "{'booster': 0, 'colsample_bytree': 0.859816355523672, 'gamma': 1.3735458195938568, 'learning_rate': 0.030828919774011383, 'max_depth': 4.0, 'min_child_weight': 2.0, 'reg_alpha': 41.0, 'reg_lambda': 0.951478415188381, 'strategy': 2, 'subsample': 0.7460819542843993, 'tree_method': 0}\n"
     ]
    }
   ],
   "source": [
    "print(best_params)"
   ]
  },
  {
   "cell_type": "code",
   "execution_count": 33,
   "id": "01ac1433",
   "metadata": {},
   "outputs": [
    {
     "data": {
      "text/plain": [
       "XGBClassifier(base_score=0.5, booster='gbtree', colsample_bylevel=1,\n",
       "              colsample_bynode=1, colsample_bytree=0.859816355523672,\n",
       "              gamma=1.3735458195938568, gpu_id=-1, importance_type='gain',\n",
       "              interaction_constraints='', learning_rate=0.030828919774011383,\n",
       "              max_delta_step=0, max_depth=4, min_child_weight=2, missing=nan,\n",
       "              monotone_constraints='()', n_estimators=200, n_jobs=4,\n",
       "              num_parallel_tree=1, objective='binary:hinge', random_state=42,\n",
       "              reg_alpha=41, reg_lambda=0.951478415188381, scale_pos_weight=None,\n",
       "              seed=42, subsample=0.7460819542843993, tree_method='auto',\n",
       "              validate_parameters=1, verbosity=None)"
      ]
     },
     "execution_count": 33,
     "metadata": {},
     "output_type": "execute_result"
    }
   ],
   "source": [
    "best_hyperopt_model = getBestModel(trials)\n",
    "best_hyperopt_model.fit(X_train, y_train)"
   ]
  },
  {
   "cell_type": "code",
   "execution_count": 34,
   "id": "e5c8c018",
   "metadata": {},
   "outputs": [
    {
     "name": "stdout",
     "output_type": "stream",
     "text": [
      "              precision    recall  f1-score   support\n",
      "\n",
      "           0       0.84      0.84      0.84        81\n",
      "           1       0.63      0.63      0.63        35\n",
      "\n",
      "    accuracy                           0.78       116\n",
      "   macro avg       0.73      0.73      0.73       116\n",
      "weighted avg       0.78      0.78      0.78       116\n",
      "\n"
     ]
    }
   ],
   "source": [
    "# Deploy model on X_test\n",
    "y_pred = best_hyperopt_model.predict(X_test)\n",
    "\n",
    "print(classification_report(y_test, y_pred))"
   ]
  }
 ],
 "metadata": {
  "kernelspec": {
   "display_name": "Python 3 (ipykernel)",
   "language": "python",
   "name": "python3"
  },
  "language_info": {
   "codemirror_mode": {
    "name": "ipython",
    "version": 3
   },
   "file_extension": ".py",
   "mimetype": "text/x-python",
   "name": "python",
   "nbconvert_exporter": "python",
   "pygments_lexer": "ipython3",
   "version": "3.8.8"
  }
 },
 "nbformat": 4,
 "nbformat_minor": 5
}
